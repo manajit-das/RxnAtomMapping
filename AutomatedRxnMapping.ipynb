{
  "nbformat": 4,
  "nbformat_minor": 0,
  "metadata": {
    "colab": {
      "provenance": []
    },
    "kernelspec": {
      "name": "python3",
      "display_name": "Python 3"
    },
    "language_info": {
      "name": "python"
    }
  },
  "cells": [
    {
      "cell_type": "code",
      "execution_count": 1,
      "metadata": {
        "colab": {
          "base_uri": "https://localhost:8080/"
        },
        "id": "4umE6TV90_rG",
        "outputId": "2d0a5bfb-f182-4722-ba91-627f241920dc"
      },
      "outputs": [
        {
          "output_type": "stream",
          "name": "stdout",
          "text": [
            "Collecting rdkit\n",
            "  Downloading rdkit-2024.9.5-cp311-cp311-manylinux_2_28_x86_64.whl.metadata (4.0 kB)\n",
            "Requirement already satisfied: numpy in /usr/local/lib/python3.11/dist-packages (from rdkit) (1.26.4)\n",
            "Requirement already satisfied: Pillow in /usr/local/lib/python3.11/dist-packages (from rdkit) (11.1.0)\n",
            "Downloading rdkit-2024.9.5-cp311-cp311-manylinux_2_28_x86_64.whl (34.3 MB)\n",
            "\u001b[2K   \u001b[90m━━━━━━━━━━━━━━━━━━━━━━━━━━━━━━━━━━━━━━━━\u001b[0m \u001b[32m34.3/34.3 MB\u001b[0m \u001b[31m54.4 MB/s\u001b[0m eta \u001b[36m0:00:00\u001b[0m\n",
            "\u001b[?25hInstalling collected packages: rdkit\n",
            "Successfully installed rdkit-2024.9.5\n"
          ]
        }
      ],
      "source": [
        "!pip install rdkit -q"
      ]
    },
    {
      "cell_type": "code",
      "source": [
        "import sys\n",
        "from collections import defaultdict\n",
        "import pandas as pd\n",
        "import sys, os, re\n",
        "import rdkit\n",
        "from rdkit import Chem, RDLogger\n",
        "from rdkit.Chem import rdChemReactions\n",
        "RDLogger.DisableLog('rdApp.*')\n",
        "from template_extractor import extract_from_reaction\n",
        "from rdkit.Chem import rdDepictor\n",
        "rdDepictor.SetPreferCoordGen(True)\n",
        "from rdkit import Chem"
      ],
      "metadata": {
        "id": "MWoHSMR51GRL"
      },
      "execution_count": 3,
      "outputs": []
    },
    {
      "cell_type": "code",
      "source": [
        "def build_template_extractor(args):\n",
        "    setting = {'verbose': False, 'use_stereo': False, 'use_symbol': False, 'max_unmap': 5, 'retro': False, 'remote': True, 'least_atom_num': 0}\n",
        "    for k in setting.keys():\n",
        "        if k in args.keys():\n",
        "            setting[k] = args[k]\n",
        "    print ('Template extractor setting:', setting)\n",
        "    return lambda x: extract_from_reaction(x, setting)\n",
        "\n",
        "def get_reaction_template(extractor, rxn, _id = 0):\n",
        "    rxn = {'reactants': rxn.split('>>')[0], 'products': rxn.split('>>')[1], '_id': _id}\n",
        "    result = extractor(rxn)\n",
        "    return rxn, result\n",
        "\n",
        "def get_full_template(template, H_change, Charge_change, Chiral_change):\n",
        "    H_code = ''.join([str(H_change[k+1]) for k in range(len(H_change))])\n",
        "    Charge_code = ''.join([str(Charge_change[k+1]) for k in range(len(Charge_change))])\n",
        "    Chiral_code = ''.join([str(Chiral_change[k+1]) for k in range(len(Chiral_change))])\n",
        "    return '_'.join([template, H_code, Charge_code, Chiral_code])"
      ],
      "metadata": {
        "id": "DIYJJhag1XCB"
      },
      "execution_count": 4,
      "outputs": []
    },
    {
      "cell_type": "code",
      "source": [
        "args ={'verbose': False, 'use_stereo': False, 'use_symbol': True, 'max_unmap': 5, 'retro': False, 'remote': True, 'least_atom_num': 0,\n",
        "      'dataset':'USPTO_Mechanism'}"
      ],
      "metadata": {
        "id": "bCS-9ADE1hgh"
      },
      "execution_count": 5,
      "outputs": []
    },
    {
      "cell_type": "code",
      "source": [
        "extractor = build_template_extractor(args)"
      ],
      "metadata": {
        "colab": {
          "base_uri": "https://localhost:8080/"
        },
        "id": "jHuBt7j71jsJ",
        "outputId": "66fd643f-a726-4c63-dc07-d8bc7bb4ff02"
      },
      "execution_count": 6,
      "outputs": [
        {
          "output_type": "stream",
          "name": "stdout",
          "text": [
            "Template extractor setting: {'verbose': False, 'use_stereo': False, 'use_symbol': True, 'max_unmap': 5, 'retro': False, 'remote': True, 'least_atom_num': 0}\n"
          ]
        }
      ]
    },
    {
      "cell_type": "code",
      "source": [
        "rxn = '[CH3:1][CH2:2][Cl:3].[OH-:4]>>[CH3:1][CH2:2][OH:4].[Cl-:3]'\n",
        "output = get_reaction_template(extractor, rxn, _id = 0)\n",
        "output[1]['reaction_smarts']"
      ],
      "metadata": {
        "colab": {
          "base_uri": "https://localhost:8080/",
          "height": 35
        },
        "id": "gdKu3ntb1lHB",
        "outputId": "bb89cbfb-0941-421b-ebec-29a6c95abbe3"
      },
      "execution_count": 7,
      "outputs": [
        {
          "output_type": "execute_result",
          "data": {
            "text/plain": [
              "'[OH-;D0:4].[CH2;D2;+0:2]-[Cl;H0;D1;+0:3]>>[Cl-;H0;D0:3].[CH2;D2;+0:2]-[OH;D1;+0:4]'"
            ],
            "application/vnd.google.colaboratory.intrinsic+json": {
              "type": "string"
            }
          },
          "metadata": {},
          "execution_count": 7
        }
      ]
    },
    {
      "cell_type": "code",
      "source": [
        "atom_mapped_rxns_list = ['[O:1]=[CH:2][c:3]1[cH:4][n:5][cH:6][cH:7][cH:8]1.[OH3+:9]>>[OH+:1]=[CH:2][c:3]1[cH:4][n:5][cH:6][cH:7][cH:8]1.[OH2:9]',\n",
        " '[OH+:5]=[CH:6][c:7]1[cH:8][n:9][cH:10][cH:11][cH:12]1.[OH:1][CH2:2][CH2:3][OH:4]>>[OH+:1]([CH2:2][CH2:3][OH:4])[CH:6]([OH:5])[c:7]1[cH:8][n:9][cH:10][cH:11][cH:12]1',\n",
        " '[OH+:1]([CH2:2][CH2:3][OH:4])[CH:5]([OH:6])[c:7]1[cH:8][n:9][cH:10][cH:11][cH:12]1>>[O:1]([CH2:2][CH2:3][OH:4])[CH:5]([OH2+:6])[c:7]1[cH:8][n:9][cH:10][cH:11][cH:12]1',\n",
        " '[O:1]([CH2:2][CH2:3][OH:4])[CH:5]([OH2+:6])[c:7]1[cH:8][n:9][cH:10][cH:11][cH:12]1>>[O+:1](\\\\[CH2:2][CH2:3][OH:4])=[CH:5]/[c:7]1[cH:8][n:9][cH:10][cH:11][cH:12]1.[OH2:6]',\n",
        " '[O+:1](\\\\[CH2:2][CH2:3][OH:4])=[CH:5]/[c:6]1[cH:7][n:8][cH:9][cH:10][cH:11]1>>[O:1]1[CH2:2][CH2:3][OH+:4][CH:5]1[c:6]1[cH:7][n:8][cH:9][cH:10][cH:11]1',\n",
        " '[O:3]1[CH2:4][CH2:5][OH+:6][CH:7]1[c:8]1[cH:9][n:10][cH:11][cH:12][cH:13]1.[OH2:1].[OH2:2]>>[O:3]1[CH2:4][CH2:5][O:6][CH:7]1[c:8]1[cH:9][n:10][cH:11][cH:12][cH:13]1.[OH3+:1]']"
      ],
      "metadata": {
        "id": "NqqyZJDW1msR"
      },
      "execution_count": 8,
      "outputs": []
    },
    {
      "cell_type": "code",
      "source": [
        "rxn = atom_mapped_rxns_list[2]\n",
        "output = get_reaction_template(extractor, rxn, _id = 0)\n",
        "output[1]['reaction_smarts']"
      ],
      "metadata": {
        "colab": {
          "base_uri": "https://localhost:8080/",
          "height": 35
        },
        "id": "brviGJr-1vgK",
        "outputId": "e43a8cae-4f43-4107-ca86-ff9a566999a5"
      },
      "execution_count": 9,
      "outputs": [
        {
          "output_type": "execute_result",
          "data": {
            "text/plain": [
              "'[OH;D1;+0:6].[OH+;D2:1]>>[OH2+;D1:6].[O;H0;D2;+0:1]'"
            ],
            "application/vnd.google.colaboratory.intrinsic+json": {
              "type": "string"
            }
          },
          "metadata": {},
          "execution_count": 9
        }
      ]
    },
    {
      "cell_type": "code",
      "source": [
        "templates = []\n",
        "for rxn in atom_mapped_rxns_list:\n",
        "  output = get_reaction_template(extractor, rxn, _id = 0)\n",
        "  templates.append((output[1]['reaction_smarts'], output[1]['intra_only']))\n",
        "templates"
      ],
      "metadata": {
        "colab": {
          "base_uri": "https://localhost:8080/"
        },
        "id": "lSH0Mi5o1xcZ",
        "outputId": "afcca649-ac28-4dc9-a24d-b8e4d54cff8f"
      },
      "execution_count": 10,
      "outputs": [
        {
          "output_type": "execute_result",
          "data": {
            "text/plain": [
              "[('[O;H0;D1;+0:1].[OH3+;D0:9]>>[OH+;D1:1].[OH2;D0;+0:9]', False),\n",
              " ('[OH;D1;+0:1].[CH;D2;+0:6]=[OH+;D1:5]>>[OH+;D2:1]-[CH;D3;+0:6]-[OH;D1;+0:5]',\n",
              "  False),\n",
              " ('[OH;D1;+0:6].[OH+;D2:1]>>[OH2+;D1:6].[O;H0;D2;+0:1]', True),\n",
              " ('[O;H0;D2;+0:1]-[CH;D3;+0:5]-[OH2+;D1:6]>>[OH2;D0;+0:6].[CH;D2;+0:5]=[O+;H0;D2:1]',\n",
              "  True),\n",
              " ('[OH;D1;+0:4].[CH;D2;+0:5]=[O+;H0;D2:1]>>[O;H0;D2;+0:1]-[CH;D3;+0:5]-[OH+;D2:4]',\n",
              "  True),\n",
              " ('[OH2;D0;+0:1].[OH+;D2:6]>>[OH3+;D0:1].[O;H0;D2;+0:6]', False)]"
            ]
          },
          "metadata": {},
          "execution_count": 10
        }
      ]
    },
    {
      "cell_type": "code",
      "source": [
        "templates_ = []\n",
        "for i in templates:\n",
        "  r, p = i[0].split('>>')\n",
        "  templates_.append(((f\"({r})>>{p}\"), i[1]))\n",
        "templates_"
      ],
      "metadata": {
        "colab": {
          "base_uri": "https://localhost:8080/"
        },
        "id": "33MWmTa91zHR",
        "outputId": "cc5c7a76-e886-49d0-c6e8-70c01f3a7475"
      },
      "execution_count": 11,
      "outputs": [
        {
          "output_type": "execute_result",
          "data": {
            "text/plain": [
              "[('([O;H0;D1;+0:1].[OH3+;D0:9])>>[OH+;D1:1].[OH2;D0;+0:9]', False),\n",
              " ('([OH;D1;+0:1].[CH;D2;+0:6]=[OH+;D1:5])>>[OH+;D2:1]-[CH;D3;+0:6]-[OH;D1;+0:5]',\n",
              "  False),\n",
              " ('([OH;D1;+0:6].[OH+;D2:1])>>[OH2+;D1:6].[O;H0;D2;+0:1]', True),\n",
              " ('([O;H0;D2;+0:1]-[CH;D3;+0:5]-[OH2+;D1:6])>>[OH2;D0;+0:6].[CH;D2;+0:5]=[O+;H0;D2:1]',\n",
              "  True),\n",
              " ('([OH;D1;+0:4].[CH;D2;+0:5]=[O+;H0;D2:1])>>[O;H0;D2;+0:1]-[CH;D3;+0:5]-[OH+;D2:4]',\n",
              "  True),\n",
              " ('([OH2;D0;+0:1].[OH+;D2:6])>>[OH3+;D0:1].[O;H0;D2;+0:6]', False)]"
            ]
          },
          "metadata": {},
          "execution_count": 11
        }
      ]
    },
    {
      "cell_type": "code",
      "source": [
        "import pandas as pd\n",
        "import numpy as np\n",
        "from rdkit import Chem\n",
        "from rdkit.Chem import rdChemReactions as Reactions\n",
        "from rdkit.Chem.Draw import IPythonConsole\n",
        "from rdkit import RDLogger\n",
        "RDLogger.DisableLog('rdApp.*')\n",
        "import matplotlib.pyplot as plt\n",
        "from rdkit.Chem import rdDepictor\n",
        "rdDepictor.SetPreferCoordGen(True)\n",
        "import os\n",
        "os.getcwd()\n",
        "\n",
        "import pandas as pd\n",
        "from rdkit import Chem\n",
        "from rdkit.Chem import AllChem, Draw\n",
        "from rdkit.Chem.Draw import IPythonConsole\n",
        "from rdkit.Chem.Draw.MolDrawing import MolDrawing, DrawingOptions\n",
        "import re\n",
        "from collections import Counter\n",
        "from rdkit.Chem.Draw import rdMolDraw2D\n",
        "from rdkit.Chem import rdChemReactions\n",
        "from rdkit.Chem import rdDepictor\n",
        "rdDepictor.SetPreferCoordGen(True)\n",
        "#from rdchiral.template_extractor import extract_from_reaction"
      ],
      "metadata": {
        "id": "AzAQysvt11ja"
      },
      "execution_count": 12,
      "outputs": []
    },
    {
      "cell_type": "code",
      "source": [
        "from itertools import permutations\n",
        "from rdkit import Chem\n",
        "from collections import Counter\n",
        "\n",
        "\n",
        "def out_(outcome):\n",
        "  mapnums = [a.GetAtomMapNum() for m in outcome for a in m.GetAtoms() if a.GetAtomMapNum()]\n",
        "  #print(mapnums)\n",
        "  if len(mapnums) != len(set(mapnums)): # duplicate?\n",
        "\n",
        "      merged_mol = Chem.RWMol(outcome[0])\n",
        "      merged_map_to_id = {a.GetAtomMapNum(): a.GetIdx() for a in outcome[0].GetAtoms() if a.GetAtomMapNum()}\n",
        "      for j in range(1, len(outcome)):\n",
        "          new_mol = outcome[j]\n",
        "          for a in new_mol.GetAtoms():\n",
        "              if a.GetAtomMapNum() not in merged_map_to_id:\n",
        "                  merged_map_to_id[a.GetAtomMapNum()] = merged_mol.AddAtom(a)\n",
        "          for b in new_mol.GetBonds():\n",
        "              bi = b.GetBeginAtom().GetAtomMapNum()\n",
        "              bj = b.GetEndAtom().GetAtomMapNum()\n",
        "\n",
        "              if not merged_mol.GetBondBetweenAtoms(\n",
        "                      merged_map_to_id[bi], merged_map_to_id[bj]):\n",
        "                  merged_mol.AddBond(merged_map_to_id[bi],\n",
        "                      merged_map_to_id[bj], b.GetBondType())\n",
        "                  merged_mol.GetBondBetweenAtoms(\n",
        "                      merged_map_to_id[bi], merged_map_to_id[bj]\n",
        "                  ).SetStereo(b.GetStereo())\n",
        "                  merged_mol.GetBondBetweenAtoms(\n",
        "                      merged_map_to_id[bi], merged_map_to_id[bj]\n",
        "                  ).SetBondDir(b.GetBondDir())\n",
        "      outcome = merged_mol.GetMol()\n",
        "\n",
        "  else:\n",
        "      new_outcome = outcome[0]\n",
        "      for j in range(1, len(outcome)):\n",
        "          new_outcome = AllChem.CombineMols(new_outcome, outcome[j])\n",
        "      outcome = new_outcome\n",
        "\n",
        "  return outcome\n",
        "\n",
        "\n",
        "#this code is from:\n",
        "def make_rxns(source_rxn, reactants, intra_only=False):\n",
        "    new_rxns = []\n",
        "    product_sets = source_rxn.RunReactants(reactants)\n",
        "    #print('product_sets before:\\n', product_sets, '\\n')\n",
        "\n",
        "    if intra_only:\n",
        "      product_sets = [(out_(pset),) for pset in product_sets]\n",
        "\n",
        "    for pset in product_sets:\n",
        "        new_rxn = AllChem.ChemicalReaction()\n",
        "        for react in reactants:\n",
        "            react = Chem.Mol(react)\n",
        "            for a in react.GetAtoms():\n",
        "                a.SetIntProp('molAtomMapNumber', a.GetIdx())\n",
        "            new_rxn.AddReactantTemplate(react)\n",
        "        for prod in pset:\n",
        "            for a in prod.GetAtoms():\n",
        "                a.SetIntProp('molAtomMapNumber', int(a.GetProp('react_atom_idx')))\n",
        "            new_rxn.AddProductTemplate(prod)\n",
        "            #print('new reaction:===>\\n', AllChem.ReactionToSmiles(new_rxn))\n",
        "\n",
        "            #----some tweaking, needed for one edge case---------\n",
        "            # Get the reaction SMILES\n",
        "            rxn_smiles = AllChem.ReactionToSmiles(new_rxn)\n",
        "\n",
        "            # Tweak: Remove parentheses if they enclose the product part\n",
        "            reactant_smiles, product_smiles = rxn_smiles.split('>>')\n",
        "            if product_smiles.startswith('(') and product_smiles.endswith(')'):\n",
        "                product_smiles = product_smiles[1:-1]\n",
        "            tweaked_rxn_smiles = f\"{reactant_smiles}>>{product_smiles}\"\n",
        "\n",
        "            # Convert back to a `ChemicalReaction` object\n",
        "            tweaked_rxn = AllChem.ReactionFromSmarts(tweaked_rxn_smiles)\n",
        "            new_rxns.append(tweaked_rxn)\n",
        "            #----------------------------------------------------------\n",
        "    return new_rxns\n",
        "\n",
        "def match_pdts(true_pdts, gen_pdts):\n",
        "    # Split each input string into separate SMILES components\n",
        "    true_parts = true_pdts.split('.')\n",
        "    gen_parts = gen_pdts.split('.')\n",
        "    # Canonicalize each component of true_pdts\n",
        "    true_canonicals = set()\n",
        "    for smi in true_parts:\n",
        "        mol = Chem.MolFromSmiles(smi)\n",
        "        [a.SetAtomMapNum(0) for a in mol.GetAtoms()]\n",
        "        if mol is not None:\n",
        "            # Convert to canonical SMILES without stereochemistry\n",
        "            true_canonicals.add(Chem.MolToSmiles(mol, isomericSmiles=False))\n",
        "\n",
        "    # Canonicalize and compare each component of gen_pdts\n",
        "    for smi in gen_parts:\n",
        "        mol = Chem.MolFromSmiles(smi)\n",
        "        if mol is not None:\n",
        "            [a.SetAtomMapNum(0) for a in mol.GetAtoms()]\n",
        "            gen_canonical = Chem.MolToSmiles(mol, isomericSmiles=False)\n",
        "            if gen_canonical in true_canonicals:\n",
        "                return True\n",
        "\n",
        "    return False\n",
        "\n",
        "def find_all_reac_reag_comb(template_smarts_str, str_of_smiles, intra_only=False):\n",
        "    #print('these are getting used:', template_smarts_str, str_of_smiles)\n",
        "    list_of_smiles = str_of_smiles.split('.')\n",
        "    #print('all smiles:', list_of_smiles)\n",
        "    reactants_smarts = template_smarts_str.split('>>')[0][1:-1]\n",
        "    reactants_smarts = reactants_smarts.split('.')\n",
        "    #print('reactants_smarts:', reactants_smarts)\n",
        "    # Dictionary to hold matches for each SMARTS pattern\n",
        "    smarts_to_matches = {smarts: [] for smarts in reactants_smarts}\n",
        "\n",
        "    if intra_only:\n",
        "        # Check if a single molecule contains all SMARTS\n",
        "        results = []\n",
        "        for smiles in list_of_smiles:\n",
        "            mol = Chem.MolFromSmiles(smiles)\n",
        "            if all(mol.HasSubstructMatch(Chem.MolFromSmarts(smarts)) for smarts in reactants_smarts):\n",
        "                # Intramolecular case: all SMARTS must match within the same molecule\n",
        "                reagents = list_of_smiles.copy()\n",
        "                reagents.remove(smiles)  # Remaining molecules are considered reagents\n",
        "                results.append(([smiles], reagents))\n",
        "        return results\n",
        "\n",
        "    for smiles in list_of_smiles:\n",
        "        mol = Chem.MolFromSmiles(smiles)\n",
        "        for smarts in reactants_smarts:\n",
        "            #print('smarts here:\\n', smarts)\n",
        "            smarts_mol = Chem.MolFromSmarts(smarts)\n",
        "            if mol.HasSubstructMatch(smarts_mol):\n",
        "                smarts_to_matches[smarts].append(smiles)\n",
        "\n",
        "    # Generate all permutations of matches for each SMARTS pattern\n",
        "    reactant_combinations = []\n",
        "    for reactant_permutation in permutations(list_of_smiles, len(reactants_smarts)):\n",
        "        match = True\n",
        "        for reactant, smarts in zip(reactant_permutation, reactants_smarts):\n",
        "            mol = Chem.MolFromSmiles(reactant)\n",
        "            smarts_mol = Chem.MolFromSmarts(smarts)\n",
        "            if not mol.HasSubstructMatch(smarts_mol):\n",
        "                match = False\n",
        "                break\n",
        "        if match:\n",
        "            reactant_combinations.append(list(reactant_permutation))\n",
        "\n",
        "\n",
        "    # Remove duplicate combinations\n",
        "    unique_combinations = []\n",
        "    for combo in reactant_combinations:\n",
        "        if combo not in unique_combinations:\n",
        "            unique_combinations.append(combo)\n",
        "\n",
        "    # Generate reagents for each reactant combination, maintaining counts\n",
        "    results = []\n",
        "    original_counts = Counter(list_of_smiles)  # Keep track of the original counts\n",
        "    for reactants in unique_combinations:\n",
        "        reactant_counts = Counter(reactants)\n",
        "        reagents_counts = original_counts - reactant_counts  # Subtract reactant counts\n",
        "        reagents = list(reagents_counts.elements())  # Reconstruct the reagents list\n",
        "        results.append((reactants, reagents))\n",
        "\n",
        "\n",
        "    return results\n",
        "\n",
        "\n",
        "def transform_func3(template_smarts_str_, str_of_smiles):\n",
        "    template_smarts_str = template_smarts_str_[0]\n",
        "    intra_only = template_smarts_str_[1]\n",
        "\n",
        "    reactant_reagents = find_all_reac_reag_comb(template_smarts_str, str_of_smiles, intra_only)\n",
        "    #print('reactant_reagents:-->\\n', reactant_reagents)\n",
        "    # if not reactant_reagents:\n",
        "    #     print(f\"No valid reactant-reagent combinations found for: {template_smarts_str} with {str_of_smiles}\")\n",
        "    #     return []  # Return an empty list or handle appropriately\n",
        "\n",
        "\n",
        "    all_mapped_rxns = []  # Store results for all reactant-reagent combinations\n",
        "\n",
        "    for reactants_smiles_list, reagents_smiles_list in reactant_reagents:\n",
        "        reagent_smiles = '.'.join(reagents_smiles_list)\n",
        "        reactants_mols_list = [Chem.MolFromSmiles(smiles) for smiles in reactants_smiles_list]\n",
        "        template = AllChem.ReactionFromSmarts(template_smarts_str)\n",
        "\n",
        "        # -------------------combine the reactants into a single mol object--------------\n",
        "        rmol = None\n",
        "        for mol in reactants_mols_list:\n",
        "            if rmol is None:\n",
        "                rmol = mol  # If rmol is None, set it to the first molecule\n",
        "            else:\n",
        "                rmol = Chem.CombineMols(rmol, mol)\n",
        "\n",
        "        # ----------------------mapping the reactants and products-------------------------\n",
        "        atom_mapped_rxns = []\n",
        "        for r in make_rxns(template, [rmol], intra_only):\n",
        "            #print('template, intra_only:\\n', template, intra_only, '\\n')\n",
        "            smi = AllChem.ReactionToSmiles(r)\n",
        "            #print('atom_mapped_rxns before cleaning:', smi, '\\n')\n",
        "            smi = re.sub(r'^\\((.*)\\)>', r'\\1>', smi)  # Clean up the reaction SMARTS\n",
        "            atom_mapped_rxns.append(smi)\n",
        "            #print('atom_mapped_rxns after cleaning:', atom_mapped_rxns, '\\n')\n",
        "        # --------------------------adding the reagents------------------------------------\n",
        "        for i in atom_mapped_rxns:\n",
        "            mapped_rxn = i.replace(\">>\", f\">{reagent_smiles}>\")\n",
        "            all_mapped_rxns.append(mapped_rxn)\n",
        "\n",
        "    # Remove duplicates from all mapped reactions\n",
        "    all_mapped_rxns = list(set(all_mapped_rxns))\n",
        "    return all_mapped_rxns\n",
        "\n",
        "\n",
        "def dfs_with_processing1(start, transform_func, validate_func, target_output, param_list):\n",
        "    visited = set()  # To track visited states and avoid cycles\n",
        "\n",
        "    def process_output(output):\n",
        "        \"\"\"Custom processing logic on the outputs if required.\"\"\"\n",
        "        try:\n",
        "            output_reagent = output.split('>')[1]\n",
        "            output_pdt = output.split('>')[2]\n",
        "            if output_reagent:\n",
        "                processed = '.'.join([output_pdt, output_reagent])\n",
        "            else:\n",
        "                processed = output_pdt\n",
        "            return processed\n",
        "\n",
        "        except IndexError:\n",
        "            return None  # If processing fails, return None to signal an invalid path\n",
        "\n",
        "    def is_valid_molecule(smiles):\n",
        "        \"\"\"Check if a SMILES string corresponds to a valid molecule.\"\"\"\n",
        "        try:\n",
        "            mol = Chem.MolFromSmiles(smiles)\n",
        "            return mol is not None\n",
        "        except:\n",
        "            return False\n",
        "\n",
        "    def dfs(current_input, path, param_index):\n",
        "        # Stop if the current input matches the target output\n",
        "        if validate_func(current_input, target_output):\n",
        "            print('Got it, matched!')\n",
        "            return path\n",
        "\n",
        "        if (current_input, param_index) in visited:\n",
        "            return None\n",
        "        visited.add((current_input, param_index))\n",
        "\n",
        "        # Check if we've exhausted all transformation rules\n",
        "        if param_index >= len(param_list):\n",
        "            return None\n",
        "\n",
        "        # Apply the current transformation rule\n",
        "        current_param = param_list[param_index]\n",
        "        raw_outputs = transform_func(current_param, current_input)  # Raw outputs from transform_func\n",
        "        #print('raw_outputs:\\n', raw_outputs)\n",
        "        processed_outputs = []\n",
        "\n",
        "        for raw in raw_outputs:\n",
        "            # Process the raw output\n",
        "            processed = process_output(raw)\n",
        "            if processed is None:\n",
        "                continue  # Skip invalid processing results\n",
        "\n",
        "            # Validate individual SMILES in the processed output\n",
        "            components = processed.split('.')\n",
        "            if all(is_valid_molecule(comp) for comp in components):\n",
        "                processed_outputs.append((raw, processed))\n",
        "        #print('processed_outputs=======>\\n', processed_outputs)\n",
        "        for raw_output, processed_output in processed_outputs:\n",
        "            # Recursive DFS with the next SMARTS pattern in param_list\n",
        "            result = dfs(processed_output, path + [(current_param, raw_output, processed_output)], param_index + 1)\n",
        "            if result is not None:\n",
        "                return result\n",
        "\n",
        "        return None  # No valid path found\n",
        "\n",
        "    # Start with the first SMARTS pattern\n",
        "    return dfs(start, [], 0)\n"
      ],
      "metadata": {
        "id": "kMpiZLaO14-R"
      },
      "execution_count": 13,
      "outputs": []
    },
    {
      "cell_type": "code",
      "source": [
        "start = '[O:1]=[CH:2][c:3]1[cH:4][n:5][cH:6][cH:7][cH:8]1.[OH3+:9]'\n",
        "target_output = '[OH+:1]=[CH:2][c:3]1[cH:4][n:5][cH:6][cH:7][cH:8]1.[OH2:9]'\n",
        "results = dfs_with_processing1(start, transform_func3, match_pdts, target_output, templates_[:1])\n",
        "[results[i][1] for i in range(len(results))]"
      ],
      "metadata": {
        "colab": {
          "base_uri": "https://localhost:8080/"
        },
        "id": "DKRGmYeb160i",
        "outputId": "d5cfd2c0-3e98-4c4c-c2bc-40c7b5d6e603"
      },
      "execution_count": 14,
      "outputs": [
        {
          "output_type": "stream",
          "name": "stdout",
          "text": [
            "Got it, matched!\n"
          ]
        },
        {
          "output_type": "execute_result",
          "data": {
            "text/plain": [
              "['[O:0]=[CH:1][c:2]1[cH:3][n:4][cH:5][cH:6][cH:7]1.[OH3+:8]>>[OH+:0]=[CH:1][c:2]1[cH:3][n:4][cH:5][cH:6][cH:7]1.[OH2:8]']"
            ]
          },
          "metadata": {},
          "execution_count": 14
        }
      ]
    },
    {
      "cell_type": "code",
      "source": [
        "#Task1- prepare a atom-mapped rxn mechanism\n",
        "#Task2- automatically get the templates\n",
        "#Task3- apply the templates to a set of reactants (given the products)\n",
        "#Task4- to do the task3 I need a set of samples"
      ],
      "metadata": {
        "id": "MjPe2Hp919FQ"
      },
      "execution_count": 15,
      "outputs": []
    },
    {
      "cell_type": "code",
      "source": [
        "examples = ['O=Cc1ccc2nc(C(=O)Nc3ccccc3)cn2c1.OCCO.[OH3+]>>O=C(Nc1ccccc1)c2cn3cc(C4OCCO4)ccc3n2', #aldehyde\n",
        "            'O=Cc1cc(Br)cs1.OCCO.[OH3+]>>Brc1csc(C2OCCO2)c1', #aldehyde\n",
        "            'CC(=O)c1ccc(Nc2ncc(Cl)c(NC3CC3)n2)cc1.OCCO.[OH3+]>>CC1(OCCO1)c2ccc(Nc3ncc(Cl)c(NC4CC4)n3)cc2'] #ketone"
      ],
      "metadata": {
        "id": "wsoR6q4i1_tw"
      },
      "execution_count": 16,
      "outputs": []
    },
    {
      "cell_type": "code",
      "source": [
        "start = 'O=Cc1ccc2nc(C(=O)Nc3ccccc3)cn2c1.OCCO.[OH3+]'\n",
        "target_output = 'O=C(Nc1ccccc1)c2cn3cc(C4OCCO4)ccc3n2'\n",
        "results = dfs_with_processing1(start, transform_func3, match_pdts, target_output, templates_)\n",
        "[results[i][1] for i in range(len(results))]"
      ],
      "metadata": {
        "colab": {
          "base_uri": "https://localhost:8080/"
        },
        "id": "NUiOvJ6m2BsR",
        "outputId": "540c123f-8c19-4399-8c8f-3fc072b184fb"
      },
      "execution_count": 17,
      "outputs": [
        {
          "output_type": "stream",
          "name": "stdout",
          "text": [
            "Got it, matched!\n"
          ]
        },
        {
          "output_type": "execute_result",
          "data": {
            "text/plain": [
              "['[O:0]=[CH:1][c:2]1[cH:3][cH:4][c:5]2[n:6][c:7]([C:8](=[O:9])[NH:10][c:11]3[cH:12][cH:13][cH:14][cH:15][cH:16]3)[cH:17][n:18]2[cH:19]1.[OH3+:20]>OCCO>[OH+:0]=[CH:1][c:2]1[cH:3][cH:4][c:5]2[n:6][c:7]([C:8](=[O:9])[NH:10][c:11]3[cH:12][cH:13][cH:14][cH:15][cH:16]3)[cH:17][n:18]2[cH:19]1.[OH2:20]',\n",
              " '[OH+:4]=[CH:5][c:6]1[cH:7][cH:8][c:9]2[n:10][c:11]([C:12](=[O:13])[NH:14][c:15]3[cH:16][cH:17][cH:18][cH:19][cH:20]3)[cH:21][n:22]2[cH:23]1.[OH:0][CH2:1][CH2:2][OH:3]>[OH2:20]>[OH+:0]([CH2:1][CH2:2][OH:3])[CH:5]([OH:4])[c:6]1[cH:7][cH:8][c:9]2[n:10][c:11]([C:12](=[O:13])[NH:14][c:15]3[cH:16][cH:17][cH:18][cH:19][cH:20]3)[cH:21][n:22]2[cH:23]1',\n",
              " '[OH+:0]([CH2:1][CH2:2][OH:3])[CH:4]([OH:5])[c:6]1[cH:7][cH:8][c:9]2[n:10][c:11]([C:12](=[O:13])[NH:14][c:15]3[cH:16][cH:17][cH:18][cH:19][cH:20]3)[cH:21][n:22]2[cH:23]1>[OH2:20]>[O:0]([CH2:1][CH2:2][OH:3])[CH:4]([OH2+:5])[c:6]1[cH:7][cH:8][c:9]2[n:10][c:11]([C:12](=[O:13])[NH:14][c:15]3[cH:16][cH:17][cH:18][cH:19][cH:20]3)[cH:21][n:22]2[cH:23]1',\n",
              " '[O:0]([CH2:1][CH2:2][OH:3])[CH:4]([OH2+:5])[c:6]1[cH:7][cH:8][c:9]2[n:10][c:11]([C:12](=[O:13])[NH:14][c:15]3[cH:16][cH:17][cH:18][cH:19][cH:20]3)[cH:21][n:22]2[cH:23]1>[OH2:20]>[O+:0]([CH2:1][CH2:2][OH:3])=[CH:4][c:6]1[cH:7][cH:8][c:9]2[n:10][c:11]([C:12](=[O:13])[NH:14][c:15]3[cH:16][cH:17][cH:18][cH:19][cH:20]3)[cH:21][n:22]2[cH:23]1.[OH2:5]',\n",
              " '[O+:0]([CH2:1][CH2:2][OH:3])=[CH:4][c:5]1[cH:6][cH:7][c:8]2[n:9][c:10]([C:11](=[O:12])[NH:13][c:14]3[cH:15][cH:16][cH:17][cH:18][cH:19]3)[cH:20][n:21]2[cH:22]1>[OH2:5].[OH2:20]>[O:0]1[CH2:1][CH2:2][OH+:3][CH:4]1[c:5]1[cH:6][cH:7][c:8]2[n:9][c:10]([C:11](=[O:12])[NH:13][c:14]3[cH:15][cH:16][cH:17][cH:18][cH:19]3)[cH:20][n:21]2[cH:22]1',\n",
              " '[O:1]1[CH2:2][CH2:3][OH+:4][CH:5]1[c:6]1[cH:7][cH:8][c:9]2[n:10][c:11]([C:12](=[O:13])[NH:14][c:15]3[cH:16][cH:17][cH:18][cH:19][cH:20]3)[cH:21][n:22]2[cH:23]1.[OH2:0]>[OH2:5]>[O:1]1[CH2:2][CH2:3][O:4][CH:5]1[c:6]1[cH:7][cH:8][c:9]2[n:10][c:11]([C:12](=[O:13])[NH:14][c:15]3[cH:16][cH:17][cH:18][cH:19][cH:20]3)[cH:21][n:22]2[cH:23]1.[OH3+:0]']"
            ]
          },
          "metadata": {},
          "execution_count": 17
        }
      ]
    },
    {
      "cell_type": "code",
      "source": [
        "start = 'O=Cc1cc(Br)cs1.OCCO.[OH3+]'\n",
        "target_output = 'Brc1csc(C2OCCO2)c1'\n",
        "results = dfs_with_processing1(start, transform_func3, match_pdts, target_output, templates_)\n",
        "[results[i][1] for i in range(len(results))]"
      ],
      "metadata": {
        "colab": {
          "base_uri": "https://localhost:8080/"
        },
        "id": "eU12ASXB2DtT",
        "outputId": "5ee59c05-88bb-439e-e648-06a72fe90662"
      },
      "execution_count": 18,
      "outputs": [
        {
          "output_type": "stream",
          "name": "stdout",
          "text": [
            "Got it, matched!\n"
          ]
        },
        {
          "output_type": "execute_result",
          "data": {
            "text/plain": [
              "['[O:0]=[CH:1][c:2]1[cH:3][c:4]([Br:5])[cH:6][s:7]1.[OH3+:8]>OCCO>[OH+:0]=[CH:1][c:2]1[cH:3][c:4]([Br:5])[cH:6][s:7]1',\n",
              " '[OH+:4]=[CH:5][c:6]1[cH:7][c:8]([Br:9])[cH:10][s:11]1.[OH:0][CH2:1][CH2:2][OH:3]>>[OH+:0]([CH2:1][CH2:2][OH:3])[CH:5]([OH:4])[c:6]1[cH:7][c:8]([Br:9])[cH:10][s:11]1',\n",
              " '[OH+:0]([CH2:1][CH2:2][OH:3])[CH:4]([OH:5])[c:6]1[cH:7][c:8]([Br:9])[cH:10][s:11]1>>[O:0]([CH2:1][CH2:2][OH:3])[CH:4]([OH2+:5])[c:6]1[cH:7][c:8]([Br:9])[cH:10][s:11]1',\n",
              " '[O:0]([CH2:1][CH2:2][OH:3])[CH:4]([OH2+:5])[c:6]1[cH:7][c:8]([Br:9])[cH:10][s:11]1>>[O+:0]([CH2:1][CH2:2][OH:3])=[CH:4][c:6]1[cH:7][c:8]([Br:9])[cH:10][s:11]1.[OH2:5]',\n",
              " '[O+:0]([CH2:1][CH2:2][OH:3])=[CH:4][c:5]1[cH:6][c:7]([Br:8])[cH:9][s:10]1>[OH2:5]>[O:0]1[CH2:1][CH2:2][OH+:3][CH:4]1[c:5]1[cH:6][c:7]([Br:8])[cH:9][s:10]1',\n",
              " '[O:1]1[CH2:2][CH2:3][OH+:4][CH:5]1[c:6]1[cH:7][c:8]([Br:9])[cH:10][s:11]1.[OH2:0]>>[O:1]1[CH2:2][CH2:3][O:4][CH:5]1[c:6]1[cH:7][c:8]([Br:9])[cH:10][s:11]1.[OH3+:0]']"
            ]
          },
          "metadata": {},
          "execution_count": 18
        }
      ]
    },
    {
      "cell_type": "code",
      "source": [
        "start = 'CC(=O)c1ccc(Nc2ncc(Cl)c(NC3CC3)n2)cc1.OCCO.[OH3+]'\n",
        "target_output = 'CC1(OCCO1)c2ccc(Nc3ncc(Cl)c(NC4CC4)n3)cc2'\n",
        "results = dfs_with_processing1(start, transform_func3, match_pdts, target_output, templates_)\n",
        "[results[i][1] for i in range(len(results))]"
      ],
      "metadata": {
        "colab": {
          "base_uri": "https://localhost:8080/",
          "height": 176
        },
        "id": "jgPG6iwN2IOa",
        "outputId": "03a3b64a-b52d-436c-c672-c16b8108b0af"
      },
      "execution_count": 19,
      "outputs": [
        {
          "output_type": "error",
          "ename": "TypeError",
          "evalue": "object of type 'NoneType' has no len()",
          "traceback": [
            "\u001b[0;31m---------------------------------------------------------------------------\u001b[0m",
            "\u001b[0;31mTypeError\u001b[0m                                 Traceback (most recent call last)",
            "\u001b[0;32m<ipython-input-19-acf3708e9ecc>\u001b[0m in \u001b[0;36m<cell line: 0>\u001b[0;34m()\u001b[0m\n\u001b[1;32m      2\u001b[0m \u001b[0mtarget_output\u001b[0m \u001b[0;34m=\u001b[0m \u001b[0;34m'CC1(OCCO1)c2ccc(Nc3ncc(Cl)c(NC4CC4)n3)cc2'\u001b[0m\u001b[0;34m\u001b[0m\u001b[0;34m\u001b[0m\u001b[0m\n\u001b[1;32m      3\u001b[0m \u001b[0mresults\u001b[0m \u001b[0;34m=\u001b[0m \u001b[0mdfs_with_processing1\u001b[0m\u001b[0;34m(\u001b[0m\u001b[0mstart\u001b[0m\u001b[0;34m,\u001b[0m \u001b[0mtransform_func3\u001b[0m\u001b[0;34m,\u001b[0m \u001b[0mmatch_pdts\u001b[0m\u001b[0;34m,\u001b[0m \u001b[0mtarget_output\u001b[0m\u001b[0;34m,\u001b[0m \u001b[0mtemplates_\u001b[0m\u001b[0;34m)\u001b[0m\u001b[0;34m\u001b[0m\u001b[0;34m\u001b[0m\u001b[0m\n\u001b[0;32m----> 4\u001b[0;31m \u001b[0;34m[\u001b[0m\u001b[0mresults\u001b[0m\u001b[0;34m[\u001b[0m\u001b[0mi\u001b[0m\u001b[0;34m]\u001b[0m\u001b[0;34m[\u001b[0m\u001b[0;36m1\u001b[0m\u001b[0;34m]\u001b[0m \u001b[0;32mfor\u001b[0m \u001b[0mi\u001b[0m \u001b[0;32min\u001b[0m \u001b[0mrange\u001b[0m\u001b[0;34m(\u001b[0m\u001b[0mlen\u001b[0m\u001b[0;34m(\u001b[0m\u001b[0mresults\u001b[0m\u001b[0;34m)\u001b[0m\u001b[0;34m)\u001b[0m\u001b[0;34m]\u001b[0m\u001b[0;34m\u001b[0m\u001b[0;34m\u001b[0m\u001b[0m\n\u001b[0m",
            "\u001b[0;31mTypeError\u001b[0m: object of type 'NoneType' has no len()"
          ]
        }
      ]
    },
    {
      "cell_type": "code",
      "source": [
        "#so automatically extract the templates for the ketone substrates and check, if it works\n",
        "#but the problem is I need to get atom-mapped_rxn, this I can't bypass, except If I use ML model or some programs, e.g. marvins"
      ],
      "metadata": {
        "id": "w3TKf_3j2Kgw"
      },
      "execution_count": 20,
      "outputs": []
    },
    {
      "cell_type": "code",
      "source": [
        "atom_mapped_rxns_list = ['[CH3:1][C:2](=[O:21])[c:3]1[cH:4][cH:5][c:6]([NH:7][c:8]2[n:18][cH:17][c:15]([Cl:16])[c:10]([NH:11][CH:12]3[CH2:13][CH2:14]3)[n:9]2)[cH:19][cH:20]1.[OH3+:22]>>[CH3:1][C:2](=[OH+:21])[c:3]1[cH:4][cH:5][c:6]([NH:7][c:8]2[n:18][cH:17][c:15]([Cl:16])[c:10]([NH:11][CH:12]3[CH2:13][CH2:14]3)[n:9]2)[cH:19][cH:20]1.[OH2:22]',\n",
        "'[CH3:1][C:2](=[OH+:21])[c:3]1[cH:4][cH:5][c:6]([NH:7][c:8]2[n:18][cH:17][c:15]([Cl:16])[c:10]([NH:11][CH:12]3[CH2:13][CH2:14]3)[n:9]2)[cH:19][cH:20]1.[OH:22][CH2:23][CH2:24][OH:25]>>[CH3:1][C:2]([OH:21])([OH+:25][CH2:24][CH2:23][OH:22])[c:3]1[cH:4][cH:5][c:6]([NH:7][c:8]2[n:18][cH:17][c:15]([Cl:16])[c:10]([NH:11][CH:12]3[CH2:13][CH2:14]3)[n:9]2)[cH:19][cH:20]1',\n",
        "'[CH3:1][C:2]([OH:7])([OH+:3][CH2:4][CH2:5][OH:6])[c:8]1[cH:9][cH:10][c:11]([NH:12][c:13]2[n:14][cH:15][c:16]([Cl:17])[c:18]([NH:19][CH:20]3[CH2:21][CH2:22]3)[n:23]2)[cH:24][cH:25]1>>[CH3:1][C:2]([OH2+:7])([O:3][CH2:4][CH2:5][OH:6])[c:8]1[cH:9][cH:10][c:11]([NH:12][c:13]2[n:14][cH:15][c:16]([Cl:17])[c:18]([NH:19][CH:20]3[CH2:21][CH2:22]3)[n:23]2)[cH:24][cH:25]1',\n",
        "'[CH3:1][C:2]([OH2+:7])([O:3][CH2:4][CH2:5][OH:6])[c:8]1[cH:9][cH:10][c:11]([NH:12][c:13]2[n:14][cH:15][c:16]([Cl:17])[c:18]([NH:19][CH:20]3[CH2:21][CH2:22]3)[n:23]2)[cH:24][cH:25]1>>[CH3:1]\\[C:2](=[O+:3]/[CH2:4][CH2:5][OH:6])[c:8]1[cH:9][cH:10][c:11]([NH:12][c:13]2[n:14][cH:15][c:16]([Cl:17])[c:18]([NH:19][CH:20]3[CH2:21][CH2:22]3)[n:23]2)[cH:24][cH:25]1.[OH2:7]',\n",
        "'[CH3:1]\\[C:2](=[O+:21]/[CH2:22][CH2:23][OH:24])[c:3]1[cH:4][cH:5][c:6]([NH:7][c:8]2[n:18][cH:17][c:15]([Cl:16])[c:10]([NH:11][CH:12]3[CH2:13][CH2:14]3)[n:9]2)[cH:19][cH:20]1>>[CH3:1][C:2]1([O:21][CH2:22][CH2:23][OH+:24]1)[c:3]1[cH:4][cH:5][c:6]([NH:7][c:8]2[n:18][cH:17][c:15]([Cl:16])[c:10]([NH:11][CH:12]3[CH2:13][CH2:14]3)[n:9]2)[cH:19][cH:20]1',\n",
        "'[CH3:1][C:2]1([O:3][CH2:4][CH2:5][OH+:6]1)[c:7]1[cH:8][cH:9][c:10]([NH:11][c:12]2[n:13][cH:14][c:15]([Cl:16])[c:17]([NH:18][CH:19]3[CH2:20][CH2:21]3)[n:22]2)[cH:23][cH:24]1.[OH2:25]>>[CH3:1][C:2]1([O:6][CH2:5][CH2:4][O:3]1)[c:7]1[cH:8][cH:9][c:10]([NH:11][c:12]2[n:13][cH:14][c:15]([Cl:16])[c:17]([NH:18][CH:19]3[CH2:20][CH2:21]3)[n:22]2)[cH:23][cH:24]1.[OH3+:25]']"
      ],
      "metadata": {
        "id": "r-nmEBiU2NsB"
      },
      "execution_count": 21,
      "outputs": []
    },
    {
      "cell_type": "code",
      "source": [
        "templates = []\n",
        "for rxn in atom_mapped_rxns_list:\n",
        "  output = get_reaction_template(extractor, rxn, _id = 0)\n",
        "  templates.append((output[1]['reaction_smarts'], output[1]['intra_only']))\n",
        "templates"
      ],
      "metadata": {
        "colab": {
          "base_uri": "https://localhost:8080/"
        },
        "id": "2l-mJvPo2PFR",
        "outputId": "bdf97a2d-f94a-41d0-e0a4-0e8b4241d4e8"
      },
      "execution_count": 22,
      "outputs": [
        {
          "output_type": "execute_result",
          "data": {
            "text/plain": [
              "[('[O;H0;D1;+0:21].[OH3+;D0:22]>>[OH+;D1:21].[OH2;D0;+0:22]', False),\n",
              " ('[OH;D1;+0:25].[C;H0;D3;+0:2]=[OH+;D1:21]>>[OH+;D2:25]-[C;H0;D4;+0:2]-[OH;D1;+0:21]',\n",
              "  False),\n",
              " ('[OH;D1;+0:7].[OH+;D2:3]>>[OH2+;D1:7].[O;H0;D2;+0:3]', True),\n",
              " ('[O;H0;D2;+0:3]-[C;H0;D4;+0:2]-[OH2+;D1:7]>>[OH2;D0;+0:7].[C;H0;D3;+0:2]=[O+;H0;D2:3]',\n",
              "  True),\n",
              " ('[OH;D1;+0:24].[C;H0;D3;+0:2]=[O+;H0;D2:21]>>[O;H0;D2;+0:21]-[C;H0;D4;+0:2]-[OH+;D2:24]',\n",
              "  True),\n",
              " ('[OH2;D0;+0:25].[OH+;D2:6]>>[OH3+;D0:25].[O;H0;D2;+0:6]', False)]"
            ]
          },
          "metadata": {},
          "execution_count": 22
        }
      ]
    },
    {
      "cell_type": "code",
      "source": [
        "templates_ = []\n",
        "for i in templates:\n",
        "  r, p = i[0].split('>>')\n",
        "  templates_.append(((f\"({r})>>{p}\"), i[1]))\n",
        "templates_"
      ],
      "metadata": {
        "colab": {
          "base_uri": "https://localhost:8080/"
        },
        "id": "NE3mwwd52RPy",
        "outputId": "08814d78-96e6-454f-c40a-3a2970176089"
      },
      "execution_count": 23,
      "outputs": [
        {
          "output_type": "execute_result",
          "data": {
            "text/plain": [
              "[('([O;H0;D1;+0:21].[OH3+;D0:22])>>[OH+;D1:21].[OH2;D0;+0:22]', False),\n",
              " ('([OH;D1;+0:25].[C;H0;D3;+0:2]=[OH+;D1:21])>>[OH+;D2:25]-[C;H0;D4;+0:2]-[OH;D1;+0:21]',\n",
              "  False),\n",
              " ('([OH;D1;+0:7].[OH+;D2:3])>>[OH2+;D1:7].[O;H0;D2;+0:3]', True),\n",
              " ('([O;H0;D2;+0:3]-[C;H0;D4;+0:2]-[OH2+;D1:7])>>[OH2;D0;+0:7].[C;H0;D3;+0:2]=[O+;H0;D2:3]',\n",
              "  True),\n",
              " ('([OH;D1;+0:24].[C;H0;D3;+0:2]=[O+;H0;D2:21])>>[O;H0;D2;+0:21]-[C;H0;D4;+0:2]-[OH+;D2:24]',\n",
              "  True),\n",
              " ('([OH2;D0;+0:25].[OH+;D2:6])>>[OH3+;D0:25].[O;H0;D2;+0:6]', False)]"
            ]
          },
          "metadata": {},
          "execution_count": 23
        }
      ]
    },
    {
      "cell_type": "code",
      "source": [
        "transform_func3(template_smarts_str_=templates_[1], str_of_smiles='CC(c1ccc(Nc2nc(NC3CC3)c(Cl)cn2)cc1)=[OH+].OCCO')"
      ],
      "metadata": {
        "colab": {
          "base_uri": "https://localhost:8080/"
        },
        "id": "WiRaA-9d2Toy",
        "outputId": "102637e0-1764-40ca-a21f-ebe3b92d8a0e"
      },
      "execution_count": 24,
      "outputs": [
        {
          "output_type": "execute_result",
          "data": {
            "text/plain": [
              "['[CH3:4][C:5]([c:6]1[cH:7][cH:8][c:9]([NH:10][c:11]2[n:12][c:13]([NH:14][CH:15]3[CH2:16][CH2:17]3)[c:18]([Cl:19])[cH:20][n:21]2)[cH:22][cH:23]1)=[OH+:24].[OH:0][CH2:1][CH2:2][OH:3]>>[OH:0][CH2:1][CH2:2][OH+:3][C:5]([CH3:4])([c:6]1[cH:7][cH:8][c:9]([NH:10][c:11]2[n:12][c:13]([NH:14][CH:15]3[CH2:16][CH2:17]3)[c:18]([Cl:19])[cH:20][n:21]2)[cH:22][cH:23]1)[OH:24]',\n",
              " '[CH3:4][C:5]([c:6]1[cH:7][cH:8][c:9]([NH:10][c:11]2[n:12][c:13]([NH:14][CH:15]3[CH2:16][CH2:17]3)[c:18]([Cl:19])[cH:20][n:21]2)[cH:22][cH:23]1)=[OH+:24].[OH:0][CH2:1][CH2:2][OH:3]>>[OH+:0]([CH2:1][CH2:2][OH:3])[C:5]([CH3:4])([c:6]1[cH:7][cH:8][c:9]([NH:10][c:11]2[n:12][c:13]([NH:14][CH:15]3[CH2:16][CH2:17]3)[c:18]([Cl:19])[cH:20][n:21]2)[cH:22][cH:23]1)[OH:24]']"
            ]
          },
          "metadata": {},
          "execution_count": 24
        }
      ]
    },
    {
      "cell_type": "code",
      "source": [
        "import matplotlib.pyplot as plt\n",
        "from sklearn.decomposition import PCA\n",
        "from sklearn.cluster import KMeans\n",
        "from sklearn.metrics import silhouette_score\n",
        "import numpy as np\n",
        "\n",
        "def kmeans_clustering_with_visualization(fingerprints, max_clusters=10):\n",
        "    \"\"\"\n",
        "    Perform K-means clustering on molecular fingerprints and visualize clusters.\n",
        "\n",
        "    Args:\n",
        "        fingerprints (np.ndarray): 2D array of molecular fingerprints.\n",
        "        max_clusters (int): Maximum number of clusters to test.\n",
        "\n",
        "    Returns:\n",
        "        dict: Contains cluster labels, number of clusters, and PCA-transformed fingerprints.\n",
        "    \"\"\"\n",
        "    best_k = None\n",
        "    best_score = -1\n",
        "    best_model = None\n",
        "    scores = []\n",
        "\n",
        "    # Find the optimal number of clusters\n",
        "    for n_clusters in range(2, max_clusters + 1):\n",
        "        kmeans = KMeans(n_clusters=n_clusters, random_state=42, n_init='auto')\n",
        "        labels = kmeans.fit_predict(fingerprints)\n",
        "\n",
        "        # Calculate silhouette score\n",
        "        score = silhouette_score(fingerprints, labels)\n",
        "        scores.append((n_clusters, score))\n",
        "\n",
        "        if score > best_score:\n",
        "            best_k = n_clusters\n",
        "            best_score = score\n",
        "            best_model = kmeans\n",
        "\n",
        "    # Perform PCA for visualization\n",
        "    pca = PCA(n_components=2, random_state=42)\n",
        "    transformed_fingerprints = pca.fit_transform(fingerprints)\n",
        "\n",
        "    # # Plot the silhouette scores\n",
        "    # clusters, sil_scores = zip(*scores)\n",
        "    # plt.figure(figsize=(12, 5))\n",
        "    # plt.subplot(1, 2, 1)\n",
        "    # plt.plot(clusters, sil_scores, marker='o', label='Silhouette Score')\n",
        "    # plt.xlabel('Number of Clusters')\n",
        "    # plt.ylabel('Silhouette Score')\n",
        "    # plt.title('Silhouette Scores vs Number of Clusters')\n",
        "    # plt.legend()\n",
        "\n",
        "    # # Plot the clusters\n",
        "    # plt.subplot(1, 2, 2)\n",
        "    # labels = best_model.labels_\n",
        "    # plt.scatter(\n",
        "    #     transformed_fingerprints[:, 0],\n",
        "    #     transformed_fingerprints[:, 1],\n",
        "    #     c=labels,\n",
        "    #     cmap='viridis',\n",
        "    #     marker='o',\n",
        "    #     edgecolor='k'\n",
        "    # )\n",
        "    # plt.xlabel('PCA Component 1')\n",
        "    # plt.ylabel('PCA Component 2')\n",
        "    # plt.title(f'Clustering with K={best_k}')\n",
        "    # plt.colorbar(label='Cluster ID')\n",
        "\n",
        "    # plt.tight_layout()\n",
        "    # plt.show()\n",
        "\n",
        "    # Return clustering results\n",
        "    return {\n",
        "        \"labels\": labels,\n",
        "        \"n_clusters\": best_k,\n",
        "        \"transformed_fingerprints\": transformed_fingerprints,\n",
        "        \"model\": best_model,\n",
        "        \"scores\": scores\n",
        "    }\n",
        "\n"
      ],
      "metadata": {
        "id": "2K7fZxRe2VMq"
      },
      "execution_count": 25,
      "outputs": []
    },
    {
      "cell_type": "code",
      "source": [
        "from rdkit import Chem\n",
        "from rdkit.Chem import AllChem\n",
        "import numpy as np\n",
        "\n",
        "def generate_difference_fingerprint(rxn_smiles):\n",
        "    \"\"\"\n",
        "    Generates a difference fingerprint for a given reaction SMILES.\n",
        "\n",
        "    Args:\n",
        "        rxn_smiles (str): Reaction SMILES in the form \"reactant>>product\".\n",
        "\n",
        "    Returns:\n",
        "        np.ndarray: Difference fingerprint as a binary array.\n",
        "    \"\"\"\n",
        "    def generate_fingerprint(smiles, fp_size=2048):\n",
        "        \"\"\"Generate a molecular fingerprint (binary) from SMILES.\"\"\"\n",
        "        mol = Chem.MolFromSmiles(smiles)\n",
        "        if mol is None:\n",
        "            raise ValueError(f\"Invalid SMILES: {smiles}\")\n",
        "        fp = AllChem.GetMorganFingerprintAsBitVect(mol, radius=2, nBits=fp_size)\n",
        "        # Convert the ExplicitBitVect to a numpy array\n",
        "        arr = np.array(list(fp))\n",
        "        return arr\n",
        "\n",
        "    # Step 1: Split reaction SMILES into reactants and products\n",
        "    try:\n",
        "        reactants_smiles, products_smiles = rxn_smiles.split(\">>\")\n",
        "    except ValueError:\n",
        "        raise ValueError(f\"Invalid reaction SMILES format: {rxn_smiles}\")\n",
        "\n",
        "    # Step 2: Generate fingerprints for reactants and products\n",
        "    reactant_fps = np.zeros((2048,), dtype=int)\n",
        "    for reactant in reactants_smiles.split('.'):\n",
        "        reactant_fps |= generate_fingerprint(reactant)  # Combine reactants with OR\n",
        "\n",
        "    product_fps = np.zeros((2048,), dtype=int)\n",
        "    for product in products_smiles.split('.'):\n",
        "        product_fps |= generate_fingerprint(product)  # Combine products with OR\n",
        "\n",
        "    # Step 3: Create the difference fingerprint (XOR)\n",
        "    difference_fp = reactant_fps ^ product_fps\n",
        "\n",
        "    return difference_fp\n",
        "\n",
        "# Example Usage\n",
        "reaction_smiles = \"CCO>>CC=O\"  # Simple ethanol oxidation reaction\n",
        "diff_fp = generate_difference_fingerprint(reaction_smiles)\n",
        "print(\"Difference Fingerprint:\", diff_fp)\n"
      ],
      "metadata": {
        "colab": {
          "base_uri": "https://localhost:8080/"
        },
        "id": "V2W6dVGg2X7Z",
        "outputId": "5d2c6b7b-21e5-4a16-9ea1-beca3a85e9f8"
      },
      "execution_count": 26,
      "outputs": [
        {
          "output_type": "stream",
          "name": "stdout",
          "text": [
            "Difference Fingerprint: [0 0 0 ... 0 0 0]\n"
          ]
        }
      ]
    },
    {
      "cell_type": "code",
      "source": [
        "# df = pd.read_csv('/content/nucleophilic_attack_to_(thio)carbonyl_or_sulfonyl_gen_mech_new.csv')\n",
        "# df.head(3)"
      ],
      "metadata": {
        "id": "qXV89dlR2aMa"
      },
      "execution_count": 27,
      "outputs": []
    },
    {
      "cell_type": "code",
      "source": [
        "# diff_fps = [generate_difference_fingerprint(i) for i in list(df['updated_reaction'])]\n",
        "# diff_fps = np.array(diff_fps)\n",
        "# diff_fps.shape"
      ],
      "metadata": {
        "id": "VUUW1kIh2e4y"
      },
      "execution_count": 28,
      "outputs": []
    },
    {
      "cell_type": "code",
      "source": [
        "# output = kmeans_clustering_with_visualization(diff_fps)\n",
        "# set(output['labels'])"
      ],
      "metadata": {
        "id": "RY1DfAf42hD5"
      },
      "execution_count": 29,
      "outputs": []
    },
    {
      "cell_type": "code",
      "source": [
        "#df['label'] = output['labels']"
      ],
      "metadata": {
        "id": "qfbl3j3J2jPa"
      },
      "execution_count": 30,
      "outputs": []
    },
    {
      "cell_type": "code",
      "source": [
        "#df[df['label']==0]['updated_reaction'].iloc[3]"
      ],
      "metadata": {
        "id": "LVHjFagG2lux"
      },
      "execution_count": 31,
      "outputs": []
    },
    {
      "cell_type": "code",
      "source": [
        "#df[df['label']==5]['updated_reaction'].iloc[6]"
      ],
      "metadata": {
        "id": "i6oRJRPi2ng5"
      },
      "execution_count": 32,
      "outputs": []
    },
    {
      "cell_type": "code",
      "source": [
        "#df.value_counts('label')"
      ],
      "metadata": {
        "id": "oQ2a2Uoa2pEa"
      },
      "execution_count": 33,
      "outputs": []
    },
    {
      "cell_type": "code",
      "source": [
        "#df.shape"
      ],
      "metadata": {
        "id": "BXanWewn2q3K"
      },
      "execution_count": 34,
      "outputs": []
    },
    {
      "cell_type": "code",
      "source": [],
      "metadata": {
        "id": "UcS8uC4_2stx"
      },
      "execution_count": null,
      "outputs": []
    }
  ]
}